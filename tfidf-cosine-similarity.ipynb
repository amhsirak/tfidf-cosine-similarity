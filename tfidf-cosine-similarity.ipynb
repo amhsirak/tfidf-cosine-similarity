{
 "cells": [
  {
   "cell_type": "code",
   "execution_count": 2,
   "id": "animal-bidding",
   "metadata": {},
   "outputs": [],
   "source": [
    "import nltk\n",
    "import string\n",
    "\n",
    "from os import listdir\n",
    "from os.path import isfile, join\n",
    "\n",
    "from sklearn.feature_extraction.text import TfidfVectorizer\n",
    "from sklearn.metrics.pairwise import cosine_similarity"
   ]
  },
  {
   "cell_type": "code",
   "execution_count": 3,
   "id": "fabulous-growth",
   "metadata": {},
   "outputs": [],
   "source": [
    "INPUT_DIR = \"./data\""
   ]
  },
  {
   "cell_type": "markdown",
   "id": "stupid-stability",
   "metadata": {},
   "source": [
    "## Preprocessing"
   ]
  },
  {
   "cell_type": "code",
   "execution_count": 4,
   "id": "split-genetics",
   "metadata": {},
   "outputs": [
    {
     "name": "stdout",
     "output_type": "stream",
     "text": [
      "File Names: ['news1.txt', 'news2.txt', 'news3.txt'] \n",
      " File Paths: ['./data\\\\news1.txt', './data\\\\news2.txt', './data\\\\news3.txt']\n"
     ]
    }
   ],
   "source": [
    "def returnListOfFilePaths(folderPath):\n",
    "    fileInfo = []\n",
    "    listOfFileNames = [fileName for fileName in listdir(folderPath) if isfile(join(folderPath, fileName))]\n",
    "    listOfFilePaths = [join(folderPath, fileName) for fileName in listdir(folderPath) if isfile(join(folderPath, fileName))]\n",
    "    fileInfo.append(listOfFileNames)\n",
    "    fileInfo.append(listOfFilePaths)\n",
    "    return fileInfo\n",
    "\n",
    "fileNames, filePaths = returnListOfFilePaths(INPUT_DIR)\n",
    "print(\"File Names:\", fileNames, \"\\n\", \"File Paths:\" ,filePaths)"
   ]
  },
  {
   "cell_type": "code",
   "execution_count": 5,
   "id": "presidential-velvet",
   "metadata": {},
   "outputs": [
    {
     "name": "stdout",
     "output_type": "stream",
     "text": [
      "{'./data\\\\news1.txt': 'Channel tunnel operator Eurotunnel on Monday announced details of a deal giving bank creditors 45.5 percent of the company in return for wiping out 1.0 billion pounds ($1.6 billion) of its massive debts.\\nThe long-awaited but highly complex restructuring of nearly nearly nine billion pounds of debt and unpaid interest throws the company a lifeline which could secure what is still likely to be a difficult future.\\nThe deal, announced simultaneously in Paris and London, brings the company back from the brink of bankruptcy but leaves current shareholders, who have already seen their investment dwindle, owning only 54.5 percent of the company.\\n\"We have fixed and capped the interest payments and arranged only to pay what is available in cash,\" Eurotunnel co-chairman Alastair Morton told reporters at a news conference. \"Avoiding having to do this again is the name of the game.\"\\nMorton said the plan provides the Anglo-French company with the medium term financial stability to consolidate its commercial position and develop its operations, adding that the firm was now making a profit before interest.\\nAlthough shareholders will see their holdings diluted, they were offered the prospect of a brighter future and urged to be patient after months of uncertainty while Eurotunnel wrestled to reduce the crippling interest payments negotiated during the tunnel\\'s construction.\\nEurotunnel, which has taken around half of the market in the busiest cross-Channel route from the European ferry companies, said a strong operating performance could allow it to pay its first dividend within the next 10 years.\\nFrench co-chairman Patrick Ponsolle told reporters at a Paris news conference that the dividend could come as early as 2004 if the company performed \"very well\".\\nEurotunnel and the banks have come up with an ingenious formula to help the company get over the early years of the deal when, despite the swaps of debt for equity and bonds, it will still not be able to afford the annual interest bill of 400 million pounds.\\nIf its revenue, after costs and depreciation, is less than 400 million pounds, then the company will issue \"Stabilisation notes\" to a maximum of 1.85 billion pounds to the banks. Eurotunnel would not pay interest on these notes (which would constitute a debt issue) for ten years.\\nAnalysts said that under the deal, Eurotunnel\\'s ability to finance its debt would become sustainable, at least for a few years.\\n\"If you look at the current cash flow of between 150 and 200 million pounds a year, what they can\\'t find (to meet the bill) they will roll forward into the stabilisation notes, and they can keep that going for seven, eight, nine years,\" said an analyst at one major investment bank.\\n\"So they are here for that time,\" he added.\\nThe company said in a statement there was still considerable work to be done to finalise and agree the details of the plan before it can be submitted to shareholders and the bank group for approval, probably early in the Spring of 1997.\\nEurotunnel said the debt-for-equity swap would be at 130 pence, or 10.40 francs, per share -- considerably below the level of 160 pence widely reported in the run up to the deal\\nThe company said a further 3.7 billion pounds of debt would be converted into new financial instruments and existing shareholders would be able to participate in this issue.\\nIf they choose not to take up free warrants entitling them to subscribe to this, Eurotunnel said shareholders\\' interests may be reduced further to just over 39 percent of the company by the end of December 2003.\\nEurotunnel\\'s shares, which were suspended last week at 113.5 pence ahead of Monday\\'s announcement, will resume trading on Tuesday.\\nShareholders and all 225 creditor banks have to agree the deal. \"I\\'m hopeful but I\\'m not taking it (approval) for granted,\" Morton admitted, \"Shareholders are pretty angry in France.\"\\nAsked what would happen if the banks reject the deal, Morton said, \"Nobody wants a collapse, nobody wants a doomsday scenario.\"\\n($1=.6393 Pound)\\n', './data\\\\news2.txt': 'Anglo-French Channel Tunnel operator Eurotunnel Monday announced a deal giving its creditor banks 45.5 percent of the company in return for wiping out one billion pounds ($1.56 billion) of its debt.\\nThe long-awaited restructuring brings to an end months of wrangling between Eurotunnel and the 225 banks to which it owes nearly nine billion pounds ($14.1 billion).\\nThe deal, announced simultaneously in Paris and London, brings the company back from the brink of insolvency but leaves shareholders owning only 54.5 percent of the company.\\n\"The restructuring plan provides Eurotunnel with the medium-term financial stability to allow it to consolidate its substantial commercial achievements to date and to develop its operations,\" Eurotunnel co-chairman Alastair Morton said.\\nThe firm was now making a profit before interest, he added.\\nAlthough shareholders will see their interests diluted, they were offered the prospect of a brighter future after months of uncertainty while Eurotunnel wrestled to reduce crippling interest payments negotiated during the tunnel\\'s construction.\\nEurotunnel, which has taken around half the cross-Channel market from the European ferry companies, said a strong operating performance could allow it to pay its first dividend within the next 10 years.\\nFrench co-chairman Patrick Ponsolle said shareholders would have to be patient before they could reap the benefits of the company\\'s success.\\nHe called the debt restructuring plan \"an acceptable compromise\" for holders of Eurotunnel shares.\\nThe company said there was still considerable work to be done to finalise and agree on the details of the plan before it can be submitted to shareholders and the full 225 bank syndicate for approval, probably early in 1997.\\nMonday\\'s announcement followed two weeks of highly secretive negotiations between Eurotunnel and its six leading banks. This was extended to the 24 \"instructing banks\" at a meeting late last week in London.\\nEurotunnel said the debt-for-equity swap would be at 130 pence, or 10.40 francs, per share. That is considerably below the level of around 160 pence widely reported before announcement of the deal, and will reduce outstanding debt of 8.7 billion pounds ($13.6 billion) by 1.0 billion ($1.56 billion).\\nThe company said a further 3.7 billion pounds ($5.8 billion) of debt would be converted into new financial instruments and existing shareholders would be able to participate in this issue.\\nIf they choose not to take up free warrants entitling them to subscribe to this, Eurotunnel said shareholders\\' interests may be reduced further to just over 39 percent of the company by the end of December 2003.\\nEurotunnel\\'s shares, which were suspended last week at 113.5 pence ahead of Monday\\'s announcement, should resume trading on Tuesday, the company said.', './data\\\\news3.txt': 'Britain\\'s Barclays Plc said on Monday it was in talks with U.S. group Morgan Stanley about its global custody business and banking sources confirmed the unit is up for sale.\\nBarclays and Morgan Stanley were coy in responding to press speculation, saying only that they are \"in discussions to explore the potential for future co-operation\".\\nThe move would be another step in the consolidation of the global custody business which is becoming dominated by those banks who are willing to make the large front-end investment in systems which are necessary to later rake in fees.\\nBarclays\\' custody business has 350 to 400 staff worldwide, with some working in the Far East, but has for some time been treated as not in the bank\\'s core business.\\nSecurities worth some 150 billion pounds ($239.2 billion) have been placed with the unit.\\nIn its interim results, published in August, Barclays included custody in its \"Businesses in Transition\" category which includes restructuring businesses in France and the United States. The category including custody made a profit of 23 million pounds in the half-year to June 30.\\nThe report said, \"Businesses in Transition primarily comprises lendings and other assets that are unlikely to be of long-term interest to the Group or that require significant restructuring.\"\\nIt was not clear when the deal will be finalised but analysts said it would mark a further step in the consolidation of the global custody market.\\n\"Consolidation is a natural if you look at the economic of the business,\" said John Leonard, banking analyst at Salomon Brothers. \"It\\'s a scale economy buisiness.\"\\nLeonard said that some banks had taken the decision not to invest the large sums needed to get computer systems up to scratch to be competitive.\\nCustody businesses range from traditional safekeeping of securities, which in Britain is dominated by Lloyds TSB and Royal Bank of Scotland, to performance measurement and stock lending.\\nAs such, it has ceased to be the largely risk-free business it once was although risk levels are still relatively low.\\n\"It guarantees a steady income stream but it\\'s not totally insensitive to market volumes,\" Leonard added.\\nAnalysts said Barclays has presumably decided that without further investment, the business will be too small to compete on the global stage. They expect Morgan Stanley to pay well under 100 million pounds for the business. \"It could well be less than fifty million (pounds),\" said one.\\nFinance workers\\' union BIFU attacked the leak of the discussions, saying staff face an uncertain future if the business was sold.\\nIt called on the bank to \"come clean\" over its intentions. ($1=.6270 Pound)'}\n"
     ]
    }
   ],
   "source": [
    "# Get document contents\n",
    "def create_docContentDict(filePaths):\n",
    "    rawContentDict = {}\n",
    "    for filePath in filePaths:\n",
    "        with open(filePath, \"r\") as ifile:\n",
    "            fileContent = ifile.read()\n",
    "        rawContentDict[filePath] = fileContent\n",
    "    return rawContentDict\n",
    "rawContentDict = create_docContentDict(filePaths)\n",
    "print(rawContentDict)"
   ]
  },
  {
   "cell_type": "markdown",
   "id": "israeli-delight",
   "metadata": {},
   "source": [
    "## Custom Tokenizer"
   ]
  },
  {
   "cell_type": "markdown",
   "id": "collaborative-quick",
   "metadata": {},
   "source": [
    "Steps for tokenization:\n",
    "- tokenize the input\n",
    "- remove stop words\n",
    "- perform stemming\n",
    "- remove punctuations\n",
    "- lowercase"
   ]
  },
  {
   "cell_type": "code",
   "execution_count": 6,
   "id": "hidden-blast",
   "metadata": {},
   "outputs": [],
   "source": [
    "def tokenizeContent(contentsRaw):\n",
    "    tokenized = nltk.tokenize.word_tokenize(contentsRaw)\n",
    "    return tokenized"
   ]
  },
  {
   "cell_type": "code",
   "execution_count": 7,
   "id": "thorough-swing",
   "metadata": {},
   "outputs": [],
   "source": [
    "def removeStopWordsFromTokenized(contentsTokenized):\n",
    "    stop_word_set = set(nltk.corpus.stopwords.words(\"english\"))\n",
    "    filteredContents = [word for word in contentsTokenized if word not in stop_word_set]\n",
    "    return filteredContents"
   ]
  },
  {
   "cell_type": "code",
   "execution_count": 8,
   "id": "successful-priority",
   "metadata": {},
   "outputs": [],
   "source": [
    "def performPorterStemmingOnContents(contentsTokenized):\n",
    "    porterStemmer = nltk.stem.PorterStemmer()\n",
    "    filteredContents = [porterStemmer.stem(word) for word in contentsTokenized]\n",
    "    return filteredContents"
   ]
  },
  {
   "cell_type": "code",
   "execution_count": 9,
   "id": "mechanical-plumbing",
   "metadata": {},
   "outputs": [],
   "source": [
    "def removePunctuationFromTokenized(contentsTokenized):\n",
    "    excludePuncuation = set(string.punctuation)\n",
    "    \n",
    "    # manually add additional punctuation to remove. This is just a sample\n",
    "    doubleSingleQuote = '\\'\\''\n",
    "    doubleDash = '--'\n",
    "    doubleTick = '``'\n",
    "\n",
    "    excludePuncuation.add(doubleSingleQuote)\n",
    "    excludePuncuation.add(doubleDash)\n",
    "    excludePuncuation.add(doubleTick)\n",
    "\n",
    "    filteredContents = [word for word in contentsTokenized if word not in excludePuncuation]\n",
    "    return filteredContents"
   ]
  },
  {
   "cell_type": "code",
   "execution_count": 10,
   "id": "expressed-tension",
   "metadata": {},
   "outputs": [],
   "source": [
    "def convertItemsToLower(contentsRaw):\n",
    "    filteredContents = [term.lower() for term in contentsRaw]\n",
    "    return filteredContents"
   ]
  },
  {
   "cell_type": "code",
   "execution_count": 11,
   "id": "honey-hazard",
   "metadata": {},
   "outputs": [
    {
     "name": "stdout",
     "output_type": "stream",
     "text": [
      "Raw Content: Channel tunnel operator Eurotunnel on Monday announced details of a deal giving bank creditors 45.5 percent of the company in return for wiping out 1.0 billion pounds ($1.6 billion) of its massive debts.\n",
      "The long-awaited but highly complex restructuring of nearly nearly nine billion pounds of debt a\n"
     ]
    }
   ],
   "source": [
    "content_test = rawContentDict[filePaths[0]]\n",
    "print(\"Raw Content:\", content_test[:300])"
   ]
  },
  {
   "cell_type": "code",
   "execution_count": 12,
   "id": "classified-novel",
   "metadata": {},
   "outputs": [
    {
     "name": "stdout",
     "output_type": "stream",
     "text": [
      "Tokenized content: ['Channel', 'tunnel', 'operator', 'Eurotunnel', 'on', 'Monday', 'announced', 'details', 'of', 'a', 'deal', 'giving', 'bank', 'creditors', '45.5', 'percent', 'of', 'the', 'company', 'in', 'return', 'for', 'wiping', 'out', '1.0', 'billion', 'pounds', '(', '$', '1.6']\n"
     ]
    }
   ],
   "source": [
    "content_test_tokenized = tokenizeContent(content_test)\n",
    "print(\"Tokenized content:\", content_test_tokenized[:30])"
   ]
  },
  {
   "cell_type": "code",
   "execution_count": 13,
   "id": "prospective-brooks",
   "metadata": {},
   "outputs": [
    {
     "name": "stdout",
     "output_type": "stream",
     "text": [
      "After stop word removal: ['Channel', 'tunnel', 'operator', 'Eurotunnel', 'Monday', 'announced', 'details', 'deal', 'giving', 'bank', 'creditors', '45.5', 'percent', 'company', 'return', 'wiping', '1.0', 'billion', 'pounds', '(', '$', '1.6', 'billion', ')', 'massive', 'debts', '.', 'The', 'long-awaited', 'highly']\n"
     ]
    },
    {
     "name": "stderr",
     "output_type": "stream",
     "text": [
      "[nltk_data] Downloading package stopwords to\n",
      "[nltk_data]     C:\\Users\\Karishma\\AppData\\Roaming\\nltk_data...\n",
      "[nltk_data]   Package stopwords is already up-to-date!\n"
     ]
    }
   ],
   "source": [
    "nltk.download('stopwords')\n",
    "content_test_rmStop = removeStopWordsFromTokenized(content_test_tokenized)\n",
    "print(\"After stop word removal:\", content_test_rmStop[:30])"
   ]
  },
  {
   "cell_type": "code",
   "execution_count": 14,
   "id": "forced-integer",
   "metadata": {},
   "outputs": [
    {
     "name": "stdout",
     "output_type": "stream",
     "text": [
      "After stemming: ['channel', 'tunnel', 'oper', 'eurotunnel', 'monday', 'announc', 'detail', 'deal', 'give', 'bank', 'creditor', '45.5', 'percent', 'compani', 'return', 'wipe', '1.0', 'billion', 'pound', '(', '$', '1.6', 'billion', ')', 'massiv', 'debt', '.', 'the', 'long-await', 'highli']\n"
     ]
    }
   ],
   "source": [
    "content_test_stemmed = performPorterStemmingOnContents(content_test_rmStop)\n",
    "print(\"After stemming:\", content_test_stemmed[:30])"
   ]
  },
  {
   "cell_type": "code",
   "execution_count": 15,
   "id": "infrared-costume",
   "metadata": {},
   "outputs": [
    {
     "name": "stdout",
     "output_type": "stream",
     "text": [
      "After lowercasing: ['channel', 'tunnel', 'oper', 'eurotunnel', 'monday', 'announc', 'detail', 'deal', 'give', 'bank', 'creditor', '45.5', 'percent', 'compani', 'return', 'wipe', '1.0', 'billion', 'pound', '1.6', 'billion', 'massiv', 'debt', 'the', 'long-await', 'highli', 'complex', 'restructur', 'nearli', 'nearli']\n"
     ]
    }
   ],
   "source": [
    "content_test_cleaned = removePunctuationFromTokenized(content_test_stemmed)\n",
    "content_test_clean_lower = convertItemsToLower(content_test_cleaned)\n",
    "print(\"After lowercasing:\", content_test_clean_lower[:30])"
   ]
  },
  {
   "cell_type": "code",
   "execution_count": 16,
   "id": "buried-kernel",
   "metadata": {},
   "outputs": [],
   "source": [
    "def processData(rawContents):\n",
    "    cleaned = tokenizeContent(rawContents)\n",
    "    cleaned = removeStopWordsFromTokenized(cleaned)\n",
    "    cleaned = performPorterStemmingOnContents(cleaned)    \n",
    "    cleaned = removePunctuationFromTokenized(cleaned)\n",
    "    cleaned = convertItemsToLower(cleaned)\n",
    "    return cleaned"
   ]
  },
  {
   "cell_type": "markdown",
   "id": "dress-deposit",
   "metadata": {},
   "source": [
    "## Output\n",
    "Handles both TFIDF and Cosine Similarity "
   ]
  },
  {
   "cell_type": "code",
   "execution_count": 17,
   "id": "dense-draft",
   "metadata": {},
   "outputs": [],
   "source": [
    "# print TFIDF values in 'table' format\n",
    "def print_TFIDF_for_all(term, values, fileNames):\n",
    "    values = values.transpose() # files along 'x-axis', terms along 'y-axis'\n",
    "    numValues = len(values[0])\n",
    "    print('                ', end=\"\")   #bank space for formatting output\n",
    "    for n in range(len(fileNames)):\n",
    "        print('{0:18}'.format(fileNames[n]), end=\"\")    #file names\n",
    "    print()\n",
    "    for i in range(len(term)):\n",
    "        print('{0:8}'.format(term[i]), end='\\t|  ')     #the term\n",
    "        for j in range(numValues):\n",
    "            print('{0:.12f}'.format(values[i][j]), end='   ') #the value, corresponding to the file name, for the term\n",
    "        print()"
   ]
  },
  {
   "cell_type": "code",
   "execution_count": 18,
   "id": "abstract-bachelor",
   "metadata": {},
   "outputs": [],
   "source": [
    "# write TFIDF values in 'table' format\n",
    "def write_TFIDF_for_all(term, values, fileNames):\n",
    "    filePath = \"../results/tfid.txt\"\n",
    "    outFile = open(filePath, 'a')\n",
    "    title = \"TFIDF\\n\"\n",
    "    outFile.write(title)\n",
    "    values = values.transpose() # files along 'x-axis', terms along 'y-axis'\n",
    "    numValues = len(values[0])\n",
    "    outFile.write('               \\t')   #bank space for formatting output\n",
    "    for n in range(len(fileNames)):\n",
    "        outFile.write('{0:18}'.format(fileNames[n]))    #file names\n",
    "    outFile.write(\"\\n\")\n",
    "    for i in range(len(term)):\n",
    "        outFile.write('{0:15}'.format(term[i]))     #the term\n",
    "        outFile.write('\\t|  ')\n",
    "        for j in range(numValues):\n",
    "            outFile.write('{0:.12f}'.format(values[i][j])) #the value, corresponding to the file name, for the term\n",
    "            outFile.write('   ')\n",
    "        outFile.write(\"\\n\")\n",
    "\n",
    "    outFile.close()"
   ]
  },
  {
   "cell_type": "code",
   "execution_count": null,
   "id": "gross-thumb",
   "metadata": {},
   "outputs": [],
   "source": []
  }
 ],
 "metadata": {
  "kernelspec": {
   "display_name": "Python 3",
   "language": "python",
   "name": "python3"
  },
  "language_info": {
   "codemirror_mode": {
    "name": "ipython",
    "version": 3
   },
   "file_extension": ".py",
   "mimetype": "text/x-python",
   "name": "python",
   "nbconvert_exporter": "python",
   "pygments_lexer": "ipython3",
   "version": "3.9.1"
  }
 },
 "nbformat": 4,
 "nbformat_minor": 5
}
